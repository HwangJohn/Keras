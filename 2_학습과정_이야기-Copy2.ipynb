{
 "cells": [
  {
   "cell_type": "markdown",
   "metadata": {
    "slideshow": {
     "slide_type": "slide"
    }
   },
   "source": [
    "# 학습과정 이야기\n",
    "\n",
    "1. 배치사이즈와 에포크\n",
    "2. batch_size(배치사이즈)\n",
    "3. epchos(에포크)\n"
   ]
  },
  {
   "cell_type": "markdown",
   "metadata": {
    "slideshow": {
     "slide_type": "slide"
    }
   },
   "source": [
    "## 1. 배치사이즈와 에포크"
   ]
  },
  {
   "cell_type": "code",
   "execution_count": null,
   "metadata": {
    "slideshow": {
     "slide_type": "subslide"
    }
   },
   "outputs": [],
   "source": [
    "model.fit(x, y, batch_size=32, epochs=10)"
   ]
  },
  {
   "cell_type": "markdown",
   "metadata": {
    "slideshow": {
     "slide_type": "fragment"
    }
   },
   "source": [
    "|<font size=\"6\">인자 종류</font>|<font size=\"6\">케라스 경우</font>|<font size=\"6\">모의고사 경우</font>|\n",
    "|-------|--------|----------|\n",
    "|<font size=\"6\">x</font>|<font size=\"6\">입력 데이터</font>|<font size=\"6\">100문항 문제</font>|\n",
    "|<font size=\"6\">y</font>|<font size=\"6\">라벨값</font>|<font size=\"6\">100문항 정답</font>|\n",
    "|<font size=\"6\">batch_size</font>|<font size=\"6\">몇 개의 샘플로 가중치를<BR> 갱신할 것인지 지정</font>|<font size=\"6\">몇 문항을 풀고 <BR>답을 맞춰볼지 정하는 것</font>|\n",
    "|<font size=\"6\">epochs</font>|<font size=\"6\">학습 반복 횟수</font>|<font size=\"6\">학습 반복 횟수</font>|\n",
    "\n"
   ]
  },
  {
   "cell_type": "markdown",
   "metadata": {
    "slideshow": {
     "slide_type": "fragment"
    }
   },
   "source": [
    "![배치사이즈와 에포크](./images/batch_ephochs.png)"
   ]
  },
  {
   "cell_type": "markdown",
   "metadata": {
    "slideshow": {
     "slide_type": "slide"
    }
   },
   "source": [
    "### batch_size (배치사이즈)\n",
    "\n",
    "* 전체 문제에서 몇 문항을 풀고 해답을 맞추는 지를 의미<BR>\n",
    "* 100문항일 때, 배치사이즈가 100이면 전체를 다 풀고 난 뒤에 해답을 맞춰보는 것<BR>\n",
    "* 우리가 해답을 맞춰볼 때 ‘아하, 이렇게 푸는구나’라고 느끼면서 학습하는 것처럼 모델도 이러한 과정을 통해 가중치가 갱신됩니다.<BR>"
   ]
  },
  {
   "cell_type": "markdown",
   "metadata": {
    "slideshow": {
     "slide_type": "fragment"
    }
   },
   "source": [
    "1. 문제를 푼 뒤 해답과 맞춰봐야 학습이 일어납니다.\n",
    "2. 모델의 결과값과 주어진 라벨 값과의 오차를 줄이기 위해, `역전파(Backpropagation)` 알고리즘으로 가중치가 갱신됩니다."
   ]
  },
  {
   "cell_type": "markdown",
   "metadata": {
    "slideshow": {
     "slide_type": "fragment"
    }
   },
   "source": [
    "전체 문제를 푼 뒤 해답과 맞추므로 이 때 가중치 갱신은 한 번만 일어납니다."
   ]
  },
  {
   "cell_type": "markdown",
   "metadata": {
    "slideshow": {
     "slide_type": "subslide"
    }
   },
   "source": [
    "|batch size 100|batch size 10|batch size 1|\n",
    "|-----|-----|-----|\n",
    "|![batchsize100](./images/batchsize100.png)|![batchsize10](./images/batchsize10.png)|![batchsize1](./images/batchsize1.png)|"
   ]
  },
  {
   "cell_type": "markdown",
   "metadata": {
    "slideshow": {
     "slide_type": "slide"
    }
   },
   "source": [
    "100문제 다 풀고 해답을 맞히는 것과 1문제씩 풀고 해답을 맞히는 것의 차이?\n",
    "\n",
    "* 모의고사 1회분에 비슷한 문항이 있다고 가정했을 때, <BR>\n",
    "<BR>\n",
    "* 배치사이즈가 100일 때<BR>\n",
    "다 풀어보고 해답을 맞춰보기 때문에 유사 문제를 모두 틀릴 가능성<BR>\n",
    "<BR>\n",
    "* 배치사이즈가 1일 때<BR>\n",
    "한 문제씩 풀어보고 해답을 맞춰보기 때문에 유사문제 중 첫 문제를 틀렸다고<BR> \n",
    "하더라도 해답을 보면서 학습하게 되므로 나머지 문제는 맞추게 됩니다.<BR>"
   ]
  },
  {
   "cell_type": "markdown",
   "metadata": {
    "slideshow": {
     "slide_type": "slide"
    }
   },
   "source": [
    "### epochs(에포크)\n",
    "\n",
    "* 에포크는 모의고사 1회분을 몇 번 풀어볼까\n",
    "* 즉 100문항의 문제들을 몇 번이나 반복해서 풀어보는 지 정하는 것\n",
    "* 에포크가 20이면 모의고사 1회분을 20번 푸는 것"
   ]
  },
  {
   "cell_type": "markdown",
   "metadata": {
    "slideshow": {
     "slide_type": "subslide"
    }
   },
   "source": [
    "* 같은 문제집이라도 반복해서 풀면 학습이 일어납니다.\n",
    "    * 세로축 : 100문항 중 틀린 개수\n",
    "    * 가로축 : 모의고사 풀이 반복횟수\n",
    "* 풀이를 반복할수록 틀린 개수가 적어짐\n",
    "\n",
    "<table>\n",
    "    <tr>\n",
    "        <td width=700 height=450>![epochs](images/epochs.png)</td>\n",
    "    </tr>\n",
    "</table>\n",
    "\n",
    "![epochs](images/epochs.png)"
   ]
  },
  {
   "cell_type": "markdown",
   "metadata": {
    "slideshow": {
     "slide_type": "fragment"
    }
   },
   "source": []
  }
 ],
 "metadata": {
  "celltoolbar": "Slideshow",
  "kernelspec": {
   "display_name": "Python 3",
   "language": "python",
   "name": "python3"
  },
  "language_info": {
   "codemirror_mode": {
    "name": "ipython",
    "version": 3
   },
   "file_extension": ".py",
   "mimetype": "text/x-python",
   "name": "python",
   "nbconvert_exporter": "python",
   "pygments_lexer": "ipython3",
   "version": "3.6.2"
  }
 },
 "nbformat": 4,
 "nbformat_minor": 2
}
